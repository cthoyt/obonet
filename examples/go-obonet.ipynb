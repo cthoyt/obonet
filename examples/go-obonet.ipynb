{
 "cells": [
  {
   "cell_type": "markdown",
   "metadata": {},
   "source": [
    "# obonet tutorial: import and analyze the Gene Ontology in Python\n",
    "\n",
    "This tutotial shows:\n",
    "\n",
    "1. How to read the Gene Ontology OBO export into `networkx` using the [`obonet`](https://github.com/dhimmel/obonet) package.\n",
    "2. Simple tasks you can do with the networkx.MultiDiGraph data structure.\n",
    "\n",
    "The notebook is written for Python 3.6, but `obonet` itself works with Python 3.4+."
   ]
  },
  {
   "cell_type": "code",
   "execution_count": 1,
   "metadata": {
    "collapsed": false,
    "deletable": true,
    "editable": true
   },
   "outputs": [],
   "source": [
    "import networkx\n",
    "import obonet"
   ]
  },
  {
   "cell_type": "markdown",
   "metadata": {},
   "source": [
    "### Read the Gene Ontology\n",
    "\n",
    "Learn more about the Gene Ontology (GO) downloads [here](http://geneontology.org/page/download-ontology). Note how we can read the OBO file from a URL. `obonet.read_obo` automically detects whether it's passed a local path, URL, or open file. In addition, `obonet.read_obo` will automtically decompress files ending in `.gz`, `.bz2`, or `.gz`."
   ]
  },
  {
   "cell_type": "code",
   "execution_count": 2,
   "metadata": {
    "collapsed": false
   },
   "outputs": [
    {
     "name": "stdout",
     "output_type": "stream",
     "text": [
      "CPU times: user 7.52 s, sys: 280 ms, total: 7.8 s\n",
      "Wall time: 12.2 s\n"
     ]
    }
   ],
   "source": [
    "%%time\n",
    "url = 'http://purl.obolibrary.org/obo/go/go-basic.obo'\n",
    "graph = obonet.read_obo(url)"
   ]
  },
  {
   "cell_type": "code",
   "execution_count": 3,
   "metadata": {
    "collapsed": false
   },
   "outputs": [
    {
     "data": {
      "text/plain": [
       "44560"
      ]
     },
     "execution_count": 3,
     "metadata": {},
     "output_type": "execute_result"
    }
   ],
   "source": [
    "# Number of nodes\n",
    "len(graph)"
   ]
  },
  {
   "cell_type": "code",
   "execution_count": 4,
   "metadata": {
    "collapsed": false
   },
   "outputs": [
    {
     "data": {
      "text/plain": [
       "92680"
      ]
     },
     "execution_count": 4,
     "metadata": {},
     "output_type": "execute_result"
    }
   ],
   "source": [
    "# Number of edges\n",
    "graph.number_of_edges()"
   ]
  },
  {
   "cell_type": "code",
   "execution_count": 5,
   "metadata": {
    "collapsed": false
   },
   "outputs": [
    {
     "data": {
      "text/plain": [
       "True"
      ]
     },
     "execution_count": 5,
     "metadata": {},
     "output_type": "execute_result"
    }
   ],
   "source": [
    "# Check if the ontology is a DAG\n",
    "networkx.is_directed_acyclic_graph(graph)"
   ]
  },
  {
   "cell_type": "markdown",
   "metadata": {},
   "source": [
    "### Lookup node properties\n",
    "\n",
    "Returns a dictionary."
   ]
  },
  {
   "cell_type": "code",
   "execution_count": 6,
   "metadata": {
    "collapsed": false
   },
   "outputs": [
    {
     "data": {
      "text/plain": [
       "{'def': '\"An endocytosis process that results in the engulfment of external particulate material by phagocytes. The particles are initially contained within phagocytic vacuoles (phagosomes), which then fuse with primary lysosomes to effect digestion of the particles.\" [ISBN:0198506732]',\n",
       " 'name': 'phagocytosis',\n",
       " 'namespace': 'biological_process',\n",
       " 'xref': ['Wikipedia:Phagocytosis']}"
      ]
     },
     "execution_count": 6,
     "metadata": {},
     "output_type": "execute_result"
    }
   ],
   "source": [
    "# Retreive properties of phagocytosis\n",
    "graph.node['GO:0006909']"
   ]
  },
  {
   "cell_type": "code",
   "execution_count": 7,
   "metadata": {
    "collapsed": false
   },
   "outputs": [
    {
     "data": {
      "text/plain": [
       "{'def': '\"The long, slender, mid section of a pilus.\" [GOC:jl]',\n",
       " 'name': 'pilus shaft',\n",
       " 'namespace': 'cellular_component',\n",
       " 'subset': ['gosubset_prok'],\n",
       " 'synonym': ['\"fimbrial shaft\" EXACT []']}"
      ]
     },
     "execution_count": 7,
     "metadata": {},
     "output_type": "execute_result"
    }
   ],
   "source": [
    "# Retreive properties of pilus shaft\n",
    "graph.node['GO:0009418']"
   ]
  },
  {
   "cell_type": "markdown",
   "metadata": {},
   "source": [
    "### Create name mappings\n",
    "\n",
    "Note that for some OBO ontologies, some nodes only have an id and not a name ([see issue](https://github.com/dhimmel/obonet/issues/11))."
   ]
  },
  {
   "cell_type": "code",
   "execution_count": 8,
   "metadata": {
    "collapsed": false
   },
   "outputs": [],
   "source": [
    "id_to_name = {id_: data.get('name') for id_, data in graph.nodes(data=True)}\n",
    "name_to_id = {data['name']: id_ for id_, data in graph.nodes(data=True) if 'name' in data}"
   ]
  },
  {
   "cell_type": "code",
   "execution_count": 9,
   "metadata": {
    "collapsed": false
   },
   "outputs": [
    {
     "data": {
      "text/plain": [
       "'myelination'"
      ]
     },
     "execution_count": 9,
     "metadata": {},
     "output_type": "execute_result"
    }
   ],
   "source": [
    "# Get the name for GO:0042552\n",
    "id_to_name['GO:0042552']"
   ]
  },
  {
   "cell_type": "code",
   "execution_count": 10,
   "metadata": {
    "collapsed": false
   },
   "outputs": [
    {
     "data": {
      "text/plain": [
       "'GO:0042552'"
      ]
     },
     "execution_count": 10,
     "metadata": {},
     "output_type": "execute_result"
    }
   ],
   "source": [
    "# Get the id for myelination\n",
    "name_to_id['myelination']"
   ]
  },
  {
   "cell_type": "markdown",
   "metadata": {},
   "source": [
    "### Find parent or child relationships"
   ]
  },
  {
   "cell_type": "code",
   "execution_count": 11,
   "metadata": {
    "collapsed": false
   },
   "outputs": [
    {
     "name": "stdout",
     "output_type": "stream",
     "text": [
      "• pilus part ⟶ is_a ⟶ intracellular organelle part\n",
      "• pilus part ⟶ is_a ⟶ cell projection part\n",
      "• pilus part ⟶ part_of ⟶ pilus\n"
     ]
    }
   ],
   "source": [
    "# Find edges to parent terms\n",
    "node = name_to_id['pilus part']\n",
    "for child, parent, key in graph.out_edges(node, keys=True):\n",
    "    print(f'• {id_to_name[child]} ⟶ {key} ⟶ {id_to_name[parent]}')"
   ]
  },
  {
   "cell_type": "code",
   "execution_count": 12,
   "metadata": {
    "collapsed": false
   },
   "outputs": [
    {
     "name": "stdout",
     "output_type": "stream",
     "text": [
      "• pilus part ⟵ is_a ⟵ pilus shaft\n",
      "• pilus part ⟵ is_a ⟵ pilus tip\n"
     ]
    }
   ],
   "source": [
    "# Find edges to children terms\n",
    "node = name_to_id['pilus part']\n",
    "for parent, child, key in graph.in_edges(node, keys=True):\n",
    "    print(f'• {id_to_name[child]} ⟵ {key} ⟵ {id_to_name[parent]}')"
   ]
  },
  {
   "cell_type": "markdown",
   "metadata": {},
   "source": [
    "### Find all superterms of myelination"
   ]
  },
  {
   "cell_type": "code",
   "execution_count": 13,
   "metadata": {
    "collapsed": false
   },
   "outputs": [
    {
     "data": {
      "text/plain": [
       "['anatomical structure development',\n",
       " 'axon ensheathment',\n",
       " 'biological_process',\n",
       " 'cellular process',\n",
       " 'developmental process',\n",
       " 'ensheathment of neurons',\n",
       " 'multicellular organism development',\n",
       " 'multicellular organismal process',\n",
       " 'nervous system development',\n",
       " 'single-multicellular organism process',\n",
       " 'single-organism cellular process',\n",
       " 'single-organism developmental process',\n",
       " 'single-organism process',\n",
       " 'system development']"
      ]
     },
     "execution_count": 13,
     "metadata": {},
     "output_type": "execute_result"
    }
   ],
   "source": [
    "sorted(id_to_name[superterm] for superterm in networkx.descendants(graph, 'GO:0042552'))"
   ]
  },
  {
   "cell_type": "markdown",
   "metadata": {},
   "source": [
    "### Find all subterms of myelination"
   ]
  },
  {
   "cell_type": "code",
   "execution_count": 14,
   "metadata": {
    "collapsed": false
   },
   "outputs": [
    {
     "data": {
      "text/plain": [
       "['central nervous system myelin formation',\n",
       " 'central nervous system myelin maintenance',\n",
       " 'central nervous system myelination',\n",
       " 'myelin assembly',\n",
       " 'myelin maintenance',\n",
       " 'myelination in peripheral nervous system',\n",
       " 'myelination of anterior lateral line nerve axons',\n",
       " 'myelination of lateral line nerve axons',\n",
       " 'myelination of posterior lateral line nerve axons',\n",
       " 'negative regulation of myelination',\n",
       " 'paranodal junction assembly',\n",
       " 'peripheral nervous system myelin formation',\n",
       " 'peripheral nervous system myelin maintenance',\n",
       " 'positive regulation of myelination',\n",
       " 'regulation of myelination']"
      ]
     },
     "execution_count": 14,
     "metadata": {},
     "output_type": "execute_result"
    }
   ],
   "source": [
    "sorted(id_to_name[subterm] for subterm in networkx.ancestors(graph, 'GO:0042552'))"
   ]
  },
  {
   "cell_type": "markdown",
   "metadata": {},
   "source": [
    "### Find all paths to the root"
   ]
  },
  {
   "cell_type": "code",
   "execution_count": 15,
   "metadata": {
    "collapsed": false,
    "scrolled": true
   },
   "outputs": [
    {
     "name": "stdout",
     "output_type": "stream",
     "text": [
      "• starch binding ⟶ polysaccharide binding ⟶ pattern binding ⟶ binding ⟶ molecular_function\n",
      "• starch binding ⟶ polysaccharide binding ⟶ carbohydrate binding ⟶ binding ⟶ molecular_function\n"
     ]
    }
   ],
   "source": [
    "paths = networkx.all_simple_paths(\n",
    "    graph,\n",
    "    source=name_to_id['starch binding'],\n",
    "    target=name_to_id['molecular_function']\n",
    ")\n",
    "for path in paths:\n",
    "    print('•', ' ⟶ '.join(id_to_name[node] for node in path))"
   ]
  },
  {
   "cell_type": "markdown",
   "metadata": {},
   "source": [
    "### See the ontology metadata"
   ]
  },
  {
   "cell_type": "code",
   "execution_count": 16,
   "metadata": {
    "collapsed": false,
    "deletable": true,
    "editable": true
   },
   "outputs": [
    {
     "data": {
      "text/plain": [
       "{'auto-generated-by': 'TermGenie 1.0',\n",
       " 'data-version': 'releases/2017-03-26',\n",
       " 'date': '23:02:2017 10:01',\n",
       " 'default-namespace': ['gene_ontology'],\n",
       " 'format-version': '1.2',\n",
       " 'instances': [],\n",
       " 'name': 'go',\n",
       " 'ontology': 'go',\n",
       " 'remark': ['cvs version: use data-version',\n",
       "  'Includes Ontology(OntologyID(OntologyIRI(<http://purl.obolibrary.org/obo/go/never_in_taxon.owl>))) [Axioms: 18 Logical Axioms: 0]'],\n",
       " 'saved-by': 'slaulederkind',\n",
       " 'subsetdef': ['goantislim_grouping \"Grouping classes that can be excluded\"',\n",
       "  'gocheck_do_not_annotate \"Term not to be used for direct annotation\"',\n",
       "  'gocheck_do_not_manually_annotate \"Term not to be used for direct manual annotation\"',\n",
       "  'goslim_agr \"AGR slim\"',\n",
       "  'goslim_aspergillus \"Aspergillus GO slim\"',\n",
       "  'goslim_candida \"Candida GO slim\"',\n",
       "  'goslim_chembl \"ChEMBL protein targets summary\"',\n",
       "  'goslim_generic \"Generic GO slim\"',\n",
       "  'goslim_goa \"GOA and proteome slim\"',\n",
       "  'goslim_metagenomics \"Metagenomics GO slim\"',\n",
       "  'goslim_mouse \"Mouse GO slim\"',\n",
       "  'goslim_pir \"PIR GO slim\"',\n",
       "  'goslim_plant \"Plant GO slim\"',\n",
       "  'goslim_pombe \"Fission yeast GO slim\"',\n",
       "  'goslim_synapse \"synapse GO slim\"',\n",
       "  'goslim_virus \"Viral GO slim\"',\n",
       "  'goslim_yeast \"Yeast GO slim\"',\n",
       "  'gosubset_prok \"Prokaryotic GO subset\"',\n",
       "  'mf_needs_review \"Catalytic activity terms in need of attention\"',\n",
       "  'termgenie_unvetted \"Terms created by TermGenie that do not follow a template and require additional vetting by editors\"',\n",
       "  'virus_checked \"Viral overhaul terms\"'],\n",
       " 'synonymtypedef': ['syngo_official_label \"label approved by the SynGO project\"',\n",
       "  'systematic_synonym \"Systematic synonym\" EXACT'],\n",
       " 'typedefs': [{'id': 'negatively_regulates',\n",
       "   'is_a': ['regulates'],\n",
       "   'name': 'negatively regulates',\n",
       "   'namespace': 'external',\n",
       "   'transitive_over': ['part_of'],\n",
       "   'xref': ['RO:0002212']},\n",
       "  {'id': 'never_in_taxon',\n",
       "   'is_class_level': 'true',\n",
       "   'is_metadata_tag': 'true',\n",
       "   'name': 'never_in_taxon',\n",
       "   'namespace': 'external',\n",
       "   'xref': ['RO:0002161']},\n",
       "  {'id': 'part_of',\n",
       "   'is_transitive': 'true',\n",
       "   'name': 'part of',\n",
       "   'namespace': 'external',\n",
       "   'xref': ['BFO:0000050']},\n",
       "  {'holds_over_chain': ['negatively_regulates negatively_regulates'],\n",
       "   'id': 'positively_regulates',\n",
       "   'is_a': ['regulates'],\n",
       "   'name': 'positively regulates',\n",
       "   'namespace': 'external',\n",
       "   'transitive_over': ['part_of'],\n",
       "   'xref': ['RO:0002213']},\n",
       "  {'id': 'regulates',\n",
       "   'is_transitive': 'true',\n",
       "   'name': 'regulates',\n",
       "   'namespace': 'external',\n",
       "   'transitive_over': ['part_of'],\n",
       "   'xref': ['RO:0002211']}]}"
      ]
     },
     "execution_count": 16,
     "metadata": {},
     "output_type": "execute_result"
    }
   ],
   "source": [
    "graph.graph"
   ]
  }
 ],
 "metadata": {
  "kernelspec": {
   "display_name": "Python [default]",
   "language": "python",
   "name": "python3"
  },
  "language_info": {
   "codemirror_mode": {
    "name": "ipython",
    "version": 3
   },
   "file_extension": ".py",
   "mimetype": "text/x-python",
   "name": "python",
   "nbconvert_exporter": "python",
   "pygments_lexer": "ipython3",
   "version": "3.6.5"
  }
 },
 "nbformat": 4,
 "nbformat_minor": 2
}
